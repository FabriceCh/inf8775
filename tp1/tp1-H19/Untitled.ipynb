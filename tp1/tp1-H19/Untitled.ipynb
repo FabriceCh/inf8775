{
 "cells": [
  {
   "cell_type": "code",
   "execution_count": null,
   "metadata": {},
   "outputs": [
    {
     "data": {
      "text/plain": [
       "'C:\\\\Users\\\\Joel'"
      ]
     },
     "execution_count": 1,
     "metadata": {},
     "output_type": "execute_result"
    }
   ],
   "source": [
    "import pandas as pd\n",
    "import os\n"
   ]
  },
  {
   "cell_type": "code",
   "execution_count": 2,
   "metadata": {},
   "outputs": [
    {
     "data": {
      "text/plain": [
       "['.android',\n '.cisco',\n '.CLion2018.3',\n '.config',\n '.gitconfig',\n '.IntelliJIdea2018.3',\n '.ipython',\n '.jupyter',\n '.PyCharm2018.3',\n '.pylint.d',\n '.vscode',\n '.WebStorm2018.3',\n '3D Objects',\n 'AppData',\n 'Application Data',\n 'Contacts',\n 'Cookies',\n 'Desktop',\n 'Documents',\n 'Downloads',\n 'Favorites',\n 'Google Drive',\n 'IntelGraphicsProfiles',\n 'Links',\n 'Local Settings',\n 'MicrosoftEdgeBackups',\n 'Music',\n 'My Documents',\n 'NetHood',\n 'NTUSER.DAT',\n 'ntuser.dat.LOG1',\n 'ntuser.dat.LOG2',\n 'NTUSER.DAT{f2029a58-bfb5-11e8-96cf-dc18e2c529e6}.TM.blf',\n 'NTUSER.DAT{f2029a58-bfb5-11e8-96cf-dc18e2c529e6}.TMContainer00000000000000000001.regtrans-ms',\n 'NTUSER.DAT{f2029a58-bfb5-11e8-96cf-dc18e2c529e6}.TMContainer00000000000000000002.regtrans-ms',\n 'ntuser.ini',\n 'OneDrive',\n 'Pictures',\n 'PrintHood',\n 'Recent',\n 'Saved Games',\n 'Searches',\n 'SendTo',\n 'Start Menu',\n 'Templates',\n 'Videos',\n 'WebstormProjects']"
      ]
     },
     "execution_count": 2,
     "metadata": {},
     "output_type": "execute_result"
    }
   ],
   "source": [
    ""
   ]
  },
  {
   "cell_type": "code",
   "execution_count": 9,
   "metadata": {},
   "outputs": [
    {
     "name": "stdout",
     "output_type": "stream",
     "text": [
      "    timeCounting\n0             10\n    timeCounting\n0            NaN\n    timeCounting\n0            NaN\n    timeCounting\n0            NaN\n    timeCounting\n0            NaN\n    timeCounting\n0            NaN\n    timeCounting\n0            NaN\n    timeCounting\n0            NaN\n    timeCounting\n0            NaN\n"
     ]
    }
   ],
   "source": [
    "data = pd.read_csv('./Documents/inf8775/tp1/tp1-H19/comparaison.csv')\n",
    "lines = []\n",
    "meanTimeCounting = 0\n",
    "meanTimeQuick = 0\n",
    "meanTimeQuickSeuil = 0\n",
    "meanTimeQuickRdmSeuil = 0\n",
    "for i in range(9):\n",
    "    meanTimeCounting += data.iloc[[i], [2]]\n",
    "    print(meanTimeCounting)\n",
    "    "
   ]
  },
  {
   "cell_type": "code",
   "execution_count": null,
   "metadata": {},
   "outputs": [],
   "source": []
  }
 ],
 "metadata": {
  "kernelspec": {
   "display_name": "Python 3",
   "language": "python",
   "name": "python3"
  },
  "language_info": {
   "codemirror_mode": {
    "name": "ipython",
    "version": 3
   },
   "file_extension": ".py",
   "mimetype": "text/x-python",
   "name": "python",
   "nbconvert_exporter": "python",
   "pygments_lexer": "ipython3",
   "version": "3.7.2"
  }
 },
 "nbformat": 4,
 "nbformat_minor": 2
}
