{
 "cells": [
  {
   "cell_type": "code",
   "execution_count": 2,
   "metadata": {},
   "outputs": [
    {
     "data": {
      "text/plain": [
       "'C:\\\\Users\\\\Joel\\\\Documents\\\\inf8775\\\\tp1\\\\tp1-H19'"
      ]
     },
     "execution_count": 2,
     "metadata": {},
     "output_type": "execute_result"
    }
   ],
   "source": [
    "import pandas as pd\n",
    "import os\n",
    "os.getcwd()"
   ]
  },
  {
   "cell_type": "code",
   "execution_count": 6,
   "metadata": {},
   "outputs": [
    {
     "data": {
      "text/plain": [
       "['.idea',\n",
       " '.ipynb_checkpoints',\n",
       " '.~lock.tp1-H19.odt#',\n",
       " 'cmake-build-debug-cygwin',\n",
       " 'CMakeLists.txt',\n",
       " 'comparaison.csv',\n",
       " 'exemplaires',\n",
       " 'exemple',\n",
       " 'gdb.exe.stackdump',\n",
       " 'main.cpp',\n",
       " 'sort.py',\n",
       " 'src',\n",
       " 'tp1-H19.odt',\n",
       " 'tp1_H19.exe.stackdump',\n",
       " 'tp1_H19.iml',\n",
       " 'Untitled.ipynb']"
      ]
     },
     "execution_count": 6,
     "metadata": {},
     "output_type": "execute_result"
    }
   ],
   "source": [
    "os.listdir(os.getcwd())"
   ]
  },
  {
   "cell_type": "code",
   "execution_count": 17,
   "metadata": {},
   "outputs": [
    {
     "name": "stdout",
     "output_type": "stream",
     "text": [
      "                           filename   numbers   timeCounting   timeQuick  \\\n",
      "0  ./exemplaires/testset_1000_0.txt      1000             10      0.3255   \n",
      "\n",
      "    timeQuickSeuil   timeQuickRdmSeuil  \n",
      "0           0.3297             0.36636  \n",
      "                           filename   numbers   timeCounting   timeQuick  \\\n",
      "1  ./exemplaires/testset_1000_1.txt      1000             10      0.4413   \n",
      "\n",
      "    timeQuickSeuil   timeQuickRdmSeuil  \n",
      "1            0.407             0.39048  \n",
      "                           filename   numbers   timeCounting   timeQuick  \\\n",
      "2  ./exemplaires/testset_1000_2.txt      1000             10      0.3194   \n",
      "\n",
      "    timeQuickSeuil   timeQuickRdmSeuil  \n",
      "2           0.3618             0.35473  \n",
      "                           filename   numbers   timeCounting   timeQuick  \\\n",
      "3  ./exemplaires/testset_1000_3.txt      1000             10      0.3198   \n",
      "\n",
      "    timeQuickSeuil   timeQuickRdmSeuil  \n",
      "3           0.3448             0.34922  \n",
      "                           filename   numbers   timeCounting   timeQuick  \\\n",
      "4  ./exemplaires/testset_1000_4.txt      1000             10      0.3721   \n",
      "\n",
      "    timeQuickSeuil   timeQuickRdmSeuil  \n",
      "4           0.3764             0.39752  \n",
      "                           filename   numbers   timeCounting   timeQuick  \\\n",
      "5  ./exemplaires/testset_1000_5.txt      1000             10      0.4326   \n",
      "\n",
      "    timeQuickSeuil   timeQuickRdmSeuil  \n",
      "5           0.3837             0.34271  \n",
      "                           filename   numbers   timeCounting   timeQuick  \\\n",
      "6  ./exemplaires/testset_1000_6.txt      1000             10      0.3634   \n",
      "\n",
      "    timeQuickSeuil   timeQuickRdmSeuil  \n",
      "6           0.3477             0.37574  \n",
      "                           filename   numbers   timeCounting   timeQuick  \\\n",
      "7  ./exemplaires/testset_1000_7.txt      1000             10      0.3672   \n",
      "\n",
      "    timeQuickSeuil   timeQuickRdmSeuil  \n",
      "7           0.3584             0.40598  \n",
      "                           filename   numbers   timeCounting   timeQuick  \\\n",
      "8  ./exemplaires/testset_1000_8.txt      1000             10      0.4239   \n",
      "\n",
      "    timeQuickSeuil   timeQuickRdmSeuil  \n",
      "8             0.44             0.37402  \n"
     ]
    }
   ],
   "source": [
    "data = pd.read_csv('comparaison.csv')\n",
    "for i in range(9):\n",
    "    print(data.iloc[[i]])"
   ]
  },
  {
   "cell_type": "code",
   "execution_count": null,
   "metadata": {},
   "outputs": [],
   "source": []
  }
 ],
 "metadata": {
  "kernelspec": {
   "display_name": "Python 3",
   "language": "python",
   "name": "python3"
  },
  "language_info": {
   "codemirror_mode": {
    "name": "ipython",
    "version": 3
   },
   "file_extension": ".py",
   "mimetype": "text/x-python",
   "name": "python",
   "nbconvert_exporter": "python",
   "pygments_lexer": "ipython3",
   "version": "3.7.2"
  }
 },
 "nbformat": 4,
 "nbformat_minor": 2
}
