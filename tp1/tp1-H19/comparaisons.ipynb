{
 "cells": [
  {
   "cell_type": "code",
   "execution_count": null,
   "metadata": {
    "collapsed": true
   },
   "outputs": [
    {
     "name": "stdout",
     "output_type": "stream",
     "text": [
      "   group  timeCounting  timeQuick  timeQuickSeuil  timeQuickRdmSeuil\n0      0       9.00000   0.336520        0.334950           0.335676\n1      1       9.90000   0.370172        0.368445           0.369244\n2      2       9.99000   0.373537        0.371795           0.372600\n3      3       9.99900   0.373874        0.372129           0.372936\n4      4       9.99990   0.373907        0.372163           0.372970\n5      5       9.99999   0.373911        0.372166           0.372973\n"
     ]
    }
   ],
   "source": [
    "import pandas as pd\n",
    "data = pd.read_csv('./Documents/inf8775/tp1/tp1-H19/results/comparaison.csv')\n",
    "\n",
    "meanTimeCounting = 0\n",
    "meanTimeQuick = 0\n",
    "meanTimeQuickSeuil = 0\n",
    "meanTimeQuickRdmSeuil = 0\n",
    "\n",
    "meanTimeCountingSerieA = 0\n",
    "meanTimeCountingSerieB = 0\n",
    "meanTimeCountingSerieC = 0\n",
    "\n",
    "meanTimeQuickSerieA = 0 \n",
    "meanTimeQuickSerieB = 0 \n",
    "meanTimeQuickSerieC = 0 \n",
    "\n",
    "meanTimeQuickSeuilSerieA = 0 \n",
    "meanTimeQuickSeuilSerieB = 0\n",
    "meanTimeQuickSeuilSerieC = 0\n",
    "\n",
    "meanTimeQuickRdmSeuilSerieA = 0\n",
    "meanTimeQuickRdmSeuilSerieB = 0\n",
    "meanTimeQuickRdmSeuilSerieC = 0\n",
    "\n",
    "group = []\n",
    "groupInt = 0\n",
    "timeQuickData = []\n",
    "timeCountingData = []\n",
    "timeQuickSeuilData = []\n",
    "timeQuickRdmSeuilData = []\n",
    "\n",
    "for k in range(3):\n",
    "    for i in range(3):\n",
    "        for j in range(9):\n",
    "            timeCounting = data.iat[j, 2]\n",
    "            timeQuick = data.iat[j, 3]\n",
    "            timeQuickSeuil = data.iat[j, 4]\n",
    "            timeQuickRdmSeuil = data.iat[j, 5]\n",
    "            meanTimeCounting += timeCounting\n",
    "            meanTimeQuick += timeQuick\n",
    "            meanTimeQuickSeuil += timeQuickSeuil\n",
    "            meanTimeQuickRdmSeuil += timeQuickRdmSeuil\n",
    "        meanTimeCounting /= 10\n",
    "        meanTimeQuick /= 10\n",
    "        meanTimeQuickSeuil /= 10\n",
    "        meanTimeQuickRdmSeuil /= 10\n",
    "        if i == 0:\n",
    "            meanTimeCountingSerieA = meanTimeCounting\n",
    "            meanTimeQuickSerieA = meanTimeQuick\n",
    "            meanTimeQuickSeuilSerieA = meanTimeQuickSeuil\n",
    "            meanTimeQuickRdmSeuilSerieA = meanTimeQuickRdmSeuil\n",
    "            timeCountingData.append(meanTimeCountingSerieA)\n",
    "            timeQuickData.append(meanTimeQuickSerieA)\n",
    "            timeQuickSeuilData.append(meanTimeQuickSeuilSerieA)\n",
    "            timeQuickRdmSeuilData.append(meanTimeQuickRdmSeuilSerieA)\n",
    "            group.append(groupInt)\n",
    "            groupInt += 1\n",
    "        if i == 1:\n",
    "            meanTimeCountingSerieB = meanTimeCounting\n",
    "            meanTimeQuickSerieB = meanTimeQuick\n",
    "            meanTimeQuickSeuilSerieB = meanTimeQuickSeuil\n",
    "            meanTimeQuickRdmSeuilSerieB = meanTimeQuickRdmSeuil\n",
    "            timeCountingData.append(meanTimeCountingSerieB)\n",
    "            timeQuickData.append(meanTimeQuickSerieB)\n",
    "            timeQuickSeuilData.append(meanTimeQuickSeuilSerieB)\n",
    "            timeQuickRdmSeuilData.append(meanTimeQuickRdmSeuilSerieB)\n",
    "            group.append(groupInt)\n",
    "            groupInt += 1\n",
    "        if i == 2:\n",
    "            meanTimeCountingSerieC = meanTimeCounting\n",
    "            meanTimeQuickSerieC = meanTimeQuick\n",
    "            meanTimeQuickSeuilSerieC = meanTimeQuickSeuil\n",
    "            meanTimeQuickRdmSeuilSerieC = meanTimeQuickRdmSeuil\n",
    "            timeCountingData.append(meanTimeCountingSerieC)\n",
    "            timeQuickData.append(meanTimeQuickSerieC)\n",
    "            timeQuickSeuilData.append(meanTimeQuickSeuilSerieC)\n",
    "            timeQuickRdmSeuilData.append(meanTimeQuickRdmSeuilSerieC)\n",
    "            group.append(groupInt)\n",
    "            groupInt += 1\n",
    "\n",
    "d = {'group': group,\n",
    "    'timeCounting': timeCountingData,\n",
    "    'timeQuick': timeQuickData,\n",
    "    'timeQuickSeuil': timeQuickSeuilData, \n",
    "    'timeQuickRdmSeuil': timeQuickRdmSeuilData\n",
    "    }\n",
    "df = pd.DataFrame(data=d)\n",
    "df.to_csv(\"output.csv\", index=False, header=False)\n",
    "print(df)"
   ]
  },
  {
   "cell_type": "code",
   "execution_count": 6,
   "metadata": {},
   "outputs": [
    {
     "name": "stdout",
     "output_type": "stream",
     "text": [
      "C:\\Users\\Joel\n"
     ]
    }
   ],
   "source": [
    "import os\n",
    "cwd = os.getcwd()\n",
    "print(cwd)"
   ]
  }
 ],
 "metadata": {
  "kernelspec": {
   "display_name": "Python 2",
   "language": "python",
   "name": "python2"
  },
  "language_info": {
   "codemirror_mode": {
    "name": "ipython",
    "version": 2
   },
   "file_extension": ".py",
   "mimetype": "text/x-python",
   "name": "python",
   "nbconvert_exporter": "python",
   "pygments_lexer": "ipython2",
   "version": "2.7.6"
  }
 },
 "nbformat": 4,
 "nbformat_minor": 0
}
