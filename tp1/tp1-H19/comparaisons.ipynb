{
 "cells": [
  {
   "cell_type": "code",
   "execution_count": 2,
   "metadata": {},
   "outputs": [
    {
     "name": "stdout",
     "output_type": "stream",
     "text": [
      "   group  timeCounting  timeQuick  timeQuickRdmSeuil  timeQuickSeuil\n",
      "0      1      0.100041   0.411314           0.387829        0.378416\n",
      "1      2      0.110045   0.452445           0.426612        0.416257\n",
      "2      3      0.111045   0.456558           0.430490        0.420041\n",
      "3      4      0.111145   0.456970           0.430878        0.420420\n",
      "4      5      0.111155   0.457011           0.430917        0.420458\n",
      "5      6      0.111156   0.457015           0.430920        0.420461\n",
      "6      7      0.111156   0.457015           0.430921        0.420462\n",
      "7      8      0.111156   0.457015           0.430921        0.420462\n",
      "8      9      0.111156   0.457015           0.430921        0.420462\n"
     ]
    }
   ],
   "source": [
    "import pandas as pd\n",
    "import os\n",
    "\n",
    "cwd = os.getcwd()\n",
    "path = \"./results/comparaison.csv\"\n",
    "data = pd.read_csv(path)\n",
    "\n",
    "meanTimeCounting = 0\n",
    "meanTimeQuick = 0\n",
    "meanTimeQuickSeuil = 0\n",
    "meanTimeQuickRdmSeuil = 0\n",
    "\n",
    "meanTimeCountingSerieA = 0\n",
    "meanTimeCountingSerieB = 0\n",
    "meanTimeCountingSerieC = 0\n",
    "\n",
    "meanTimeQuickSerieA = 0 \n",
    "meanTimeQuickSerieB = 0 \n",
    "meanTimeQuickSerieC = 0 \n",
    "\n",
    "meanTimeQuickSeuilSerieA = 0 \n",
    "meanTimeQuickSeuilSerieB = 0\n",
    "meanTimeQuickSeuilSerieC = 0\n",
    "\n",
    "meanTimeQuickRdmSeuilSerieA = 0\n",
    "meanTimeQuickRdmSeuilSerieB = 0\n",
    "meanTimeQuickRdmSeuilSerieC = 0\n",
    "\n",
    "group = []\n",
    "groupInt = 1\n",
    "timeQuickData = []\n",
    "timeCountingData = []\n",
    "timeQuickSeuilData = []\n",
    "timeQuickRdmSeuilData = []\n",
    "\n",
    "NUMERO_SERIE = 9\n",
    "NOMBRE_GROUPE_PAR_GROS_CHIFFRE = 3\n",
    "NOMBRE_DE_GROS_CHIFFRES = 3\n",
    "\n",
    "for k in range(NOMBRE_DE_GROS_CHIFFRES):\n",
    "    for i in range(NOMBRE_GROUPE_PAR_GROS_CHIFFRE):\n",
    "        for j in range(NUMERO_SERIE):\n",
    "            timeCounting = data.iat[j + 1, 2]\n",
    "            timeQuick = data.iat[j + 1, 3]\n",
    "            timeQuickSeuil = data.iat[j + 1, 4]\n",
    "            timeQuickRdmSeuil = data.iat[j + 1, 5]\n",
    "            meanTimeCounting += timeCounting\n",
    "            meanTimeQuick += timeQuick\n",
    "            meanTimeQuickSeuil += timeQuickSeuil\n",
    "            meanTimeQuickRdmSeuil += timeQuickRdmSeuil\n",
    "        meanTimeCounting /= 10\n",
    "        meanTimeQuick /= 10\n",
    "        meanTimeQuickSeuil /= 10\n",
    "        meanTimeQuickRdmSeuil /= 10\n",
    "        if i == 0:\n",
    "            meanTimeCountingSerieA = meanTimeCounting\n",
    "            meanTimeQuickSerieA = meanTimeQuick\n",
    "            meanTimeQuickSeuilSerieA = meanTimeQuickSeuil\n",
    "            meanTimeQuickRdmSeuilSerieA = meanTimeQuickRdmSeuil\n",
    "            timeCountingData.append(meanTimeCountingSerieA)\n",
    "            timeQuickData.append(meanTimeQuickSerieA)\n",
    "            timeQuickSeuilData.append(meanTimeQuickSeuilSerieA)\n",
    "            timeQuickRdmSeuilData.append(meanTimeQuickRdmSeuilSerieA)\n",
    "            group.append(groupInt)\n",
    "            groupInt += 1\n",
    "        if i == 1:\n",
    "            meanTimeCountingSerieB = meanTimeCounting\n",
    "            meanTimeQuickSerieB = meanTimeQuick\n",
    "            meanTimeQuickSeuilSerieB = meanTimeQuickSeuil\n",
    "            meanTimeQuickRdmSeuilSerieB = meanTimeQuickRdmSeuil\n",
    "            timeCountingData.append(meanTimeCountingSerieB)\n",
    "            timeQuickData.append(meanTimeQuickSerieB)\n",
    "            timeQuickSeuilData.append(meanTimeQuickSeuilSerieB)\n",
    "            timeQuickRdmSeuilData.append(meanTimeQuickRdmSeuilSerieB)\n",
    "            group.append(groupInt)\n",
    "            groupInt += 1\n",
    "\n",
    "        if i == 2:\n",
    "            meanTimeCountingSerieC = meanTimeCounting\n",
    "            meanTimeQuickSerieC = meanTimeQuick\n",
    "            meanTimeQuickSeuilSerieC = meanTimeQuickSeuil\n",
    "            meanTimeQuickRdmSeuilSerieC = meanTimeQuickRdmSeuil\n",
    "            timeCountingData.append(meanTimeCountingSerieC)\n",
    "            timeQuickData.append(meanTimeQuickSerieC)\n",
    "            timeQuickSeuilData.append(meanTimeQuickSeuilSerieC)\n",
    "            timeQuickRdmSeuilData.append(meanTimeQuickRdmSeuilSerieC)\n",
    "            group.append(groupInt)\n",
    "            groupInt += 1\n",
    "\n",
    "d = {'group': group,\n",
    "    'timeCounting': timeCountingData,\n",
    "    'timeQuick': timeQuickData,\n",
    "    'timeQuickSeuil': timeQuickSeuilData, \n",
    "    'timeQuickRdmSeuil': timeQuickRdmSeuilData\n",
    "    }\n",
    "\n",
    "df = pd.DataFrame(data=d)\n",
    "df.to_csv(\"output.csv\", index=False, header=False)\n",
    "print(df)"
   ]
  },
  {
   "cell_type": "code",
   "execution_count": 3,
   "metadata": {},
   "outputs": [
    {
     "data": {
      "text/html": [
       "<div>\n",
       "<style scoped>\n",
       "    .dataframe tbody tr th:only-of-type {\n",
       "        vertical-align: middle;\n",
       "    }\n",
       "\n",
       "    .dataframe tbody tr th {\n",
       "        vertical-align: top;\n",
       "    }\n",
       "\n",
       "    .dataframe thead th {\n",
       "        text-align: right;\n",
       "    }\n",
       "</style>\n",
       "<table border=\"1\" class=\"dataframe\">\n",
       "  <thead>\n",
       "    <tr style=\"text-align: right;\">\n",
       "      <th></th>\n",
       "      <th>filename</th>\n",
       "      <th>numbers</th>\n",
       "      <th>timeCounting</th>\n",
       "      <th>timeQuick</th>\n",
       "      <th>timeQuickSeuil</th>\n",
       "      <th>timeQuickRdmSeuil</th>\n",
       "    </tr>\n",
       "  </thead>\n",
       "  <tbody>\n",
       "    <tr>\n",
       "      <th>0</th>\n",
       "      <td>./exemplaires/testset_1000_0.txt</td>\n",
       "      <td>1000</td>\n",
       "      <td>0.155708</td>\n",
       "      <td>0.612555</td>\n",
       "      <td>0.540490</td>\n",
       "      <td>0.515876</td>\n",
       "    </tr>\n",
       "    <tr>\n",
       "      <th>1</th>\n",
       "      <td>./exemplaires/testset_1000_1.txt</td>\n",
       "      <td>1000</td>\n",
       "      <td>0.137166</td>\n",
       "      <td>0.551673</td>\n",
       "      <td>0.524033</td>\n",
       "      <td>0.499770</td>\n",
       "    </tr>\n",
       "    <tr>\n",
       "      <th>2</th>\n",
       "      <td>./exemplaires/testset_1000_2.txt</td>\n",
       "      <td>1000</td>\n",
       "      <td>0.114983</td>\n",
       "      <td>0.429917</td>\n",
       "      <td>0.412783</td>\n",
       "      <td>0.387639</td>\n",
       "    </tr>\n",
       "    <tr>\n",
       "      <th>3</th>\n",
       "      <td>./exemplaires/testset_1000_3.txt</td>\n",
       "      <td>1000</td>\n",
       "      <td>0.125237</td>\n",
       "      <td>0.433568</td>\n",
       "      <td>0.410110</td>\n",
       "      <td>0.454521</td>\n",
       "    </tr>\n",
       "    <tr>\n",
       "      <th>4</th>\n",
       "      <td>./exemplaires/testset_1000_4.txt</td>\n",
       "      <td>1000</td>\n",
       "      <td>0.103714</td>\n",
       "      <td>0.413134</td>\n",
       "      <td>0.390337</td>\n",
       "      <td>0.414256</td>\n",
       "    </tr>\n",
       "  </tbody>\n",
       "</table>\n",
       "</div>"
      ],
      "text/plain": [
       "                           filename  numbers  timeCounting  timeQuick  \\\n",
       "0  ./exemplaires/testset_1000_0.txt     1000      0.155708   0.612555   \n",
       "1  ./exemplaires/testset_1000_1.txt     1000      0.137166   0.551673   \n",
       "2  ./exemplaires/testset_1000_2.txt     1000      0.114983   0.429917   \n",
       "3  ./exemplaires/testset_1000_3.txt     1000      0.125237   0.433568   \n",
       "4  ./exemplaires/testset_1000_4.txt     1000      0.103714   0.413134   \n",
       "\n",
       "   timeQuickSeuil  timeQuickRdmSeuil  \n",
       "0        0.540490           0.515876  \n",
       "1        0.524033           0.499770  \n",
       "2        0.412783           0.387639  \n",
       "3        0.410110           0.454521  \n",
       "4        0.390337           0.414256  "
      ]
     },
     "execution_count": 3,
     "metadata": {},
     "output_type": "execute_result"
    }
   ],
   "source": [
    "data.head()"
   ]
  },
  {
   "cell_type": "code",
   "execution_count": 4,
   "metadata": {},
   "outputs": [
    {
     "data": {
      "text/html": [
       "<div>\n",
       "<style scoped>\n",
       "    .dataframe tbody tr th:only-of-type {\n",
       "        vertical-align: middle;\n",
       "    }\n",
       "\n",
       "    .dataframe tbody tr th {\n",
       "        vertical-align: top;\n",
       "    }\n",
       "\n",
       "    .dataframe thead th {\n",
       "        text-align: right;\n",
       "    }\n",
       "</style>\n",
       "<table border=\"1\" class=\"dataframe\">\n",
       "  <thead>\n",
       "    <tr style=\"text-align: right;\">\n",
       "      <th></th>\n",
       "      <th>filename</th>\n",
       "      <th>numbers</th>\n",
       "      <th>timeCounting</th>\n",
       "      <th>timeQuick</th>\n",
       "      <th>timeQuickSeuil</th>\n",
       "      <th>timeQuickRdmSeuil</th>\n",
       "      <th>serie</th>\n",
       "    </tr>\n",
       "  </thead>\n",
       "  <tbody>\n",
       "    <tr>\n",
       "      <th>0</th>\n",
       "      <td>./exemplaires/testset_1000_0.txt</td>\n",
       "      <td>1000</td>\n",
       "      <td>0.155708</td>\n",
       "      <td>0.612555</td>\n",
       "      <td>0.540490</td>\n",
       "      <td>0.515876</td>\n",
       "      <td>0</td>\n",
       "    </tr>\n",
       "    <tr>\n",
       "      <th>1</th>\n",
       "      <td>./exemplaires/testset_1000_1.txt</td>\n",
       "      <td>1000</td>\n",
       "      <td>0.137166</td>\n",
       "      <td>0.551673</td>\n",
       "      <td>0.524033</td>\n",
       "      <td>0.499770</td>\n",
       "      <td>0</td>\n",
       "    </tr>\n",
       "    <tr>\n",
       "      <th>2</th>\n",
       "      <td>./exemplaires/testset_1000_2.txt</td>\n",
       "      <td>1000</td>\n",
       "      <td>0.114983</td>\n",
       "      <td>0.429917</td>\n",
       "      <td>0.412783</td>\n",
       "      <td>0.387639</td>\n",
       "      <td>0</td>\n",
       "    </tr>\n",
       "    <tr>\n",
       "      <th>3</th>\n",
       "      <td>./exemplaires/testset_1000_3.txt</td>\n",
       "      <td>1000</td>\n",
       "      <td>0.125237</td>\n",
       "      <td>0.433568</td>\n",
       "      <td>0.410110</td>\n",
       "      <td>0.454521</td>\n",
       "      <td>0</td>\n",
       "    </tr>\n",
       "    <tr>\n",
       "      <th>4</th>\n",
       "      <td>./exemplaires/testset_1000_4.txt</td>\n",
       "      <td>1000</td>\n",
       "      <td>0.103714</td>\n",
       "      <td>0.413134</td>\n",
       "      <td>0.390337</td>\n",
       "      <td>0.414256</td>\n",
       "      <td>0</td>\n",
       "    </tr>\n",
       "  </tbody>\n",
       "</table>\n",
       "</div>"
      ],
      "text/plain": [
       "                           filename  numbers  timeCounting  timeQuick  \\\n",
       "0  ./exemplaires/testset_1000_0.txt     1000      0.155708   0.612555   \n",
       "1  ./exemplaires/testset_1000_1.txt     1000      0.137166   0.551673   \n",
       "2  ./exemplaires/testset_1000_2.txt     1000      0.114983   0.429917   \n",
       "3  ./exemplaires/testset_1000_3.txt     1000      0.125237   0.433568   \n",
       "4  ./exemplaires/testset_1000_4.txt     1000      0.103714   0.413134   \n",
       "\n",
       "   timeQuickSeuil  timeQuickRdmSeuil serie  \n",
       "0        0.540490           0.515876     0  \n",
       "1        0.524033           0.499770     0  \n",
       "2        0.412783           0.387639     0  \n",
       "3        0.410110           0.454521     0  \n",
       "4        0.390337           0.414256     0  "
      ]
     },
     "execution_count": 4,
     "metadata": {},
     "output_type": "execute_result"
    }
   ],
   "source": [
    "import re\n",
    "#Fonction pour déterminer la série à partir du nom de fichier\n",
    "def getSerie(x):\n",
    "    #Regex qui prend le nombre après le dernier \"_\" du nom de fichier\n",
    "    p = re.compile(\".*_([^.]*)\")\n",
    "    g = p.match(x[\"filename\"])\n",
    "    numero = g.group(1)\n",
    "    if len(numero) == 1:\n",
    "        return \"0\"\n",
    "    return numero[0]\n",
    "\n",
    "data[\"serie\"] = data.apply(getSerie, axis=1)\n",
    "data.head()"
   ]
  },
  {
   "cell_type": "code",
   "execution_count": 5,
   "metadata": {},
   "outputs": [
    {
     "data": {
      "text/plain": [
       "180"
      ]
     },
     "execution_count": 5,
     "metadata": {},
     "output_type": "execute_result"
    }
   ],
   "source": [
    "data.shape[0]"
   ]
  },
  {
   "cell_type": "code",
   "execution_count": 36,
   "metadata": {},
   "outputs": [
    {
     "data": {
      "text/html": [
       "<div>\n",
       "<style scoped>\n",
       "    .dataframe tbody tr th:only-of-type {\n",
       "        vertical-align: middle;\n",
       "    }\n",
       "\n",
       "    .dataframe tbody tr th {\n",
       "        vertical-align: top;\n",
       "    }\n",
       "\n",
       "    .dataframe thead th {\n",
       "        text-align: right;\n",
       "    }\n",
       "</style>\n",
       "<table border=\"1\" class=\"dataframe\">\n",
       "  <thead>\n",
       "    <tr style=\"text-align: right;\">\n",
       "      <th></th>\n",
       "      <th>filename</th>\n",
       "      <th>numbers</th>\n",
       "      <th>timeCounting</th>\n",
       "      <th>timeQuick</th>\n",
       "      <th>timeQuickSeuil</th>\n",
       "      <th>timeQuickRdmSeuil</th>\n",
       "      <th>serie</th>\n",
       "    </tr>\n",
       "  </thead>\n",
       "  <tbody>\n",
       "    <tr>\n",
       "      <th>10</th>\n",
       "      <td>./exemplaires/testset_1000_10.txt</td>\n",
       "      <td>1000</td>\n",
       "      <td>1895.27</td>\n",
       "      <td>0.405703</td>\n",
       "      <td>0.393648</td>\n",
       "      <td>0.391630</td>\n",
       "      <td>1</td>\n",
       "    </tr>\n",
       "    <tr>\n",
       "      <th>11</th>\n",
       "      <td>./exemplaires/testset_1000_11.txt</td>\n",
       "      <td>1000</td>\n",
       "      <td>1937.12</td>\n",
       "      <td>0.384376</td>\n",
       "      <td>0.388884</td>\n",
       "      <td>0.415388</td>\n",
       "      <td>1</td>\n",
       "    </tr>\n",
       "    <tr>\n",
       "      <th>12</th>\n",
       "      <td>./exemplaires/testset_1000_12.txt</td>\n",
       "      <td>1000</td>\n",
       "      <td>1935.07</td>\n",
       "      <td>0.385651</td>\n",
       "      <td>0.382868</td>\n",
       "      <td>0.364870</td>\n",
       "      <td>1</td>\n",
       "    </tr>\n",
       "    <tr>\n",
       "      <th>13</th>\n",
       "      <td>./exemplaires/testset_1000_13.txt</td>\n",
       "      <td>1000</td>\n",
       "      <td>1923.20</td>\n",
       "      <td>0.397607</td>\n",
       "      <td>0.388729</td>\n",
       "      <td>0.391280</td>\n",
       "      <td>1</td>\n",
       "    </tr>\n",
       "    <tr>\n",
       "      <th>14</th>\n",
       "      <td>./exemplaires/testset_1000_14.txt</td>\n",
       "      <td>1000</td>\n",
       "      <td>1893.17</td>\n",
       "      <td>0.399724</td>\n",
       "      <td>0.384941</td>\n",
       "      <td>0.393908</td>\n",
       "      <td>1</td>\n",
       "    </tr>\n",
       "  </tbody>\n",
       "</table>\n",
       "</div>"
      ],
      "text/plain": [
       "                             filename  numbers  timeCounting  timeQuick  \\\n",
       "10  ./exemplaires/testset_1000_10.txt     1000       1895.27   0.405703   \n",
       "11  ./exemplaires/testset_1000_11.txt     1000       1937.12   0.384376   \n",
       "12  ./exemplaires/testset_1000_12.txt     1000       1935.07   0.385651   \n",
       "13  ./exemplaires/testset_1000_13.txt     1000       1923.20   0.397607   \n",
       "14  ./exemplaires/testset_1000_14.txt     1000       1893.17   0.399724   \n",
       "\n",
       "    timeQuickSeuil  timeQuickRdmSeuil serie  \n",
       "10        0.393648           0.391630     1  \n",
       "11        0.388884           0.415388     1  \n",
       "12        0.382868           0.364870     1  \n",
       "13        0.388729           0.391280     1  \n",
       "14        0.384941           0.393908     1  "
      ]
     },
     "execution_count": 36,
     "metadata": {},
     "output_type": "execute_result"
    }
   ],
   "source": [
    "dataNoZeros = data.loc[data[\"timeCounting\"] > 0.001]\n",
    "dataNoZeros.shape[0]\n",
    "dataNoZeros[\"serie\"].unique()\n",
    "serieBCounting = dataNoZeros.loc[dataNoZeros[\"serie\"] == \"1\"] \n",
    "serieBCounting.head()"
   ]
  },
  {
   "cell_type": "code",
   "execution_count": 7,
   "metadata": {},
   "outputs": [
    {
     "data": {
      "text/html": [
       "<div>\n",
       "<style scoped>\n",
       "    .dataframe tbody tr th:only-of-type {\n",
       "        vertical-align: middle;\n",
       "    }\n",
       "\n",
       "    .dataframe tbody tr th {\n",
       "        vertical-align: top;\n",
       "    }\n",
       "\n",
       "    .dataframe thead th {\n",
       "        text-align: right;\n",
       "    }\n",
       "</style>\n",
       "<table border=\"1\" class=\"dataframe\">\n",
       "  <thead>\n",
       "    <tr style=\"text-align: right;\">\n",
       "      <th></th>\n",
       "      <th>filename</th>\n",
       "      <th>numbers</th>\n",
       "      <th>timeCounting</th>\n",
       "      <th>timeQuick</th>\n",
       "      <th>timeQuickSeuil</th>\n",
       "      <th>timeQuickRdmSeuil</th>\n",
       "      <th>serie</th>\n",
       "    </tr>\n",
       "  </thead>\n",
       "  <tbody>\n",
       "    <tr>\n",
       "      <th>0</th>\n",
       "      <td>./exemplaires/testset_1000_0.txt</td>\n",
       "      <td>1000</td>\n",
       "      <td>0.155708</td>\n",
       "      <td>0.612555</td>\n",
       "      <td>0.540490</td>\n",
       "      <td>0.515876</td>\n",
       "      <td>0</td>\n",
       "    </tr>\n",
       "    <tr>\n",
       "      <th>1</th>\n",
       "      <td>./exemplaires/testset_1000_1.txt</td>\n",
       "      <td>1000</td>\n",
       "      <td>0.137166</td>\n",
       "      <td>0.551673</td>\n",
       "      <td>0.524033</td>\n",
       "      <td>0.499770</td>\n",
       "      <td>0</td>\n",
       "    </tr>\n",
       "    <tr>\n",
       "      <th>2</th>\n",
       "      <td>./exemplaires/testset_1000_2.txt</td>\n",
       "      <td>1000</td>\n",
       "      <td>0.114983</td>\n",
       "      <td>0.429917</td>\n",
       "      <td>0.412783</td>\n",
       "      <td>0.387639</td>\n",
       "      <td>0</td>\n",
       "    </tr>\n",
       "    <tr>\n",
       "      <th>3</th>\n",
       "      <td>./exemplaires/testset_1000_3.txt</td>\n",
       "      <td>1000</td>\n",
       "      <td>0.125237</td>\n",
       "      <td>0.433568</td>\n",
       "      <td>0.410110</td>\n",
       "      <td>0.454521</td>\n",
       "      <td>0</td>\n",
       "    </tr>\n",
       "    <tr>\n",
       "      <th>4</th>\n",
       "      <td>./exemplaires/testset_1000_4.txt</td>\n",
       "      <td>1000</td>\n",
       "      <td>0.103714</td>\n",
       "      <td>0.413134</td>\n",
       "      <td>0.390337</td>\n",
       "      <td>0.414256</td>\n",
       "      <td>0</td>\n",
       "    </tr>\n",
       "  </tbody>\n",
       "</table>\n",
       "</div>"
      ],
      "text/plain": [
       "                           filename  numbers  timeCounting  timeQuick  \\\n",
       "0  ./exemplaires/testset_1000_0.txt     1000      0.155708   0.612555   \n",
       "1  ./exemplaires/testset_1000_1.txt     1000      0.137166   0.551673   \n",
       "2  ./exemplaires/testset_1000_2.txt     1000      0.114983   0.429917   \n",
       "3  ./exemplaires/testset_1000_3.txt     1000      0.125237   0.433568   \n",
       "4  ./exemplaires/testset_1000_4.txt     1000      0.103714   0.413134   \n",
       "\n",
       "   timeQuickSeuil  timeQuickRdmSeuil serie  \n",
       "0        0.540490           0.515876     0  \n",
       "1        0.524033           0.499770     0  \n",
       "2        0.412783           0.387639     0  \n",
       "3        0.410110           0.454521     0  \n",
       "4        0.390337           0.414256     0  "
      ]
     },
     "execution_count": 7,
     "metadata": {},
     "output_type": "execute_result"
    }
   ],
   "source": [
    "serieA = data.loc[data[\"serie\"] == \"0\"]\n",
    "serieA.head()"
   ]
  },
  {
   "cell_type": "code",
   "execution_count": 8,
   "metadata": {},
   "outputs": [
    {
     "data": {
      "text/html": [
       "<div>\n",
       "<style scoped>\n",
       "    .dataframe tbody tr th:only-of-type {\n",
       "        vertical-align: middle;\n",
       "    }\n",
       "\n",
       "    .dataframe tbody tr th {\n",
       "        vertical-align: top;\n",
       "    }\n",
       "\n",
       "    .dataframe thead th {\n",
       "        text-align: right;\n",
       "    }\n",
       "</style>\n",
       "<table border=\"1\" class=\"dataframe\">\n",
       "  <thead>\n",
       "    <tr style=\"text-align: right;\">\n",
       "      <th></th>\n",
       "      <th>filename</th>\n",
       "      <th>numbers</th>\n",
       "      <th>timeCounting</th>\n",
       "      <th>timeQuick</th>\n",
       "      <th>timeQuickSeuil</th>\n",
       "      <th>timeQuickRdmSeuil</th>\n",
       "      <th>serie</th>\n",
       "    </tr>\n",
       "  </thead>\n",
       "  <tbody>\n",
       "    <tr>\n",
       "      <th>10</th>\n",
       "      <td>./exemplaires/testset_1000_10.txt</td>\n",
       "      <td>1000</td>\n",
       "      <td>1895.27</td>\n",
       "      <td>0.405703</td>\n",
       "      <td>0.393648</td>\n",
       "      <td>0.391630</td>\n",
       "      <td>1</td>\n",
       "    </tr>\n",
       "    <tr>\n",
       "      <th>11</th>\n",
       "      <td>./exemplaires/testset_1000_11.txt</td>\n",
       "      <td>1000</td>\n",
       "      <td>1937.12</td>\n",
       "      <td>0.384376</td>\n",
       "      <td>0.388884</td>\n",
       "      <td>0.415388</td>\n",
       "      <td>1</td>\n",
       "    </tr>\n",
       "    <tr>\n",
       "      <th>12</th>\n",
       "      <td>./exemplaires/testset_1000_12.txt</td>\n",
       "      <td>1000</td>\n",
       "      <td>1935.07</td>\n",
       "      <td>0.385651</td>\n",
       "      <td>0.382868</td>\n",
       "      <td>0.364870</td>\n",
       "      <td>1</td>\n",
       "    </tr>\n",
       "    <tr>\n",
       "      <th>13</th>\n",
       "      <td>./exemplaires/testset_1000_13.txt</td>\n",
       "      <td>1000</td>\n",
       "      <td>1923.20</td>\n",
       "      <td>0.397607</td>\n",
       "      <td>0.388729</td>\n",
       "      <td>0.391280</td>\n",
       "      <td>1</td>\n",
       "    </tr>\n",
       "    <tr>\n",
       "      <th>14</th>\n",
       "      <td>./exemplaires/testset_1000_14.txt</td>\n",
       "      <td>1000</td>\n",
       "      <td>1893.17</td>\n",
       "      <td>0.399724</td>\n",
       "      <td>0.384941</td>\n",
       "      <td>0.393908</td>\n",
       "      <td>1</td>\n",
       "    </tr>\n",
       "  </tbody>\n",
       "</table>\n",
       "</div>"
      ],
      "text/plain": [
       "                             filename  numbers  timeCounting  timeQuick  \\\n",
       "10  ./exemplaires/testset_1000_10.txt     1000       1895.27   0.405703   \n",
       "11  ./exemplaires/testset_1000_11.txt     1000       1937.12   0.384376   \n",
       "12  ./exemplaires/testset_1000_12.txt     1000       1935.07   0.385651   \n",
       "13  ./exemplaires/testset_1000_13.txt     1000       1923.20   0.397607   \n",
       "14  ./exemplaires/testset_1000_14.txt     1000       1893.17   0.399724   \n",
       "\n",
       "    timeQuickSeuil  timeQuickRdmSeuil serie  \n",
       "10        0.393648           0.391630     1  \n",
       "11        0.388884           0.415388     1  \n",
       "12        0.382868           0.364870     1  \n",
       "13        0.388729           0.391280     1  \n",
       "14        0.384941           0.393908     1  "
      ]
     },
     "execution_count": 8,
     "metadata": {},
     "output_type": "execute_result"
    }
   ],
   "source": [
    "serieB = data.loc[data[\"serie\"] == \"1\"]\n",
    "serieB.head()"
   ]
  },
  {
   "cell_type": "code",
   "execution_count": 9,
   "metadata": {},
   "outputs": [
    {
     "data": {
      "text/html": [
       "<div>\n",
       "<style scoped>\n",
       "    .dataframe tbody tr th:only-of-type {\n",
       "        vertical-align: middle;\n",
       "    }\n",
       "\n",
       "    .dataframe tbody tr th {\n",
       "        vertical-align: top;\n",
       "    }\n",
       "\n",
       "    .dataframe thead th {\n",
       "        text-align: right;\n",
       "    }\n",
       "</style>\n",
       "<table border=\"1\" class=\"dataframe\">\n",
       "  <thead>\n",
       "    <tr style=\"text-align: right;\">\n",
       "      <th></th>\n",
       "      <th>filename</th>\n",
       "      <th>numbers</th>\n",
       "      <th>timeCounting</th>\n",
       "      <th>timeQuick</th>\n",
       "      <th>timeQuickSeuil</th>\n",
       "      <th>timeQuickRdmSeuil</th>\n",
       "      <th>serie</th>\n",
       "    </tr>\n",
       "  </thead>\n",
       "  <tbody>\n",
       "    <tr>\n",
       "      <th>20</th>\n",
       "      <td>./exemplaires/testset_1000_20.txt</td>\n",
       "      <td>1000</td>\n",
       "      <td>0.164828</td>\n",
       "      <td>3.492530</td>\n",
       "      <td>3.515890</td>\n",
       "      <td>0.317019</td>\n",
       "      <td>2</td>\n",
       "    </tr>\n",
       "    <tr>\n",
       "      <th>21</th>\n",
       "      <td>./exemplaires/testset_1000_21.txt</td>\n",
       "      <td>1000</td>\n",
       "      <td>0.156617</td>\n",
       "      <td>4.265470</td>\n",
       "      <td>4.331570</td>\n",
       "      <td>0.373613</td>\n",
       "      <td>2</td>\n",
       "    </tr>\n",
       "    <tr>\n",
       "      <th>22</th>\n",
       "      <td>./exemplaires/testset_1000_22.txt</td>\n",
       "      <td>1000</td>\n",
       "      <td>0.155272</td>\n",
       "      <td>1.502310</td>\n",
       "      <td>1.398380</td>\n",
       "      <td>0.332966</td>\n",
       "      <td>2</td>\n",
       "    </tr>\n",
       "    <tr>\n",
       "      <th>23</th>\n",
       "      <td>./exemplaires/testset_1000_23.txt</td>\n",
       "      <td>1000</td>\n",
       "      <td>0.150359</td>\n",
       "      <td>0.945712</td>\n",
       "      <td>0.974354</td>\n",
       "      <td>0.388628</td>\n",
       "      <td>2</td>\n",
       "    </tr>\n",
       "    <tr>\n",
       "      <th>24</th>\n",
       "      <td>./exemplaires/testset_1000_24.txt</td>\n",
       "      <td>1000</td>\n",
       "      <td>0.191856</td>\n",
       "      <td>1.259550</td>\n",
       "      <td>1.263130</td>\n",
       "      <td>0.333169</td>\n",
       "      <td>2</td>\n",
       "    </tr>\n",
       "  </tbody>\n",
       "</table>\n",
       "</div>"
      ],
      "text/plain": [
       "                             filename  numbers  timeCounting  timeQuick  \\\n",
       "20  ./exemplaires/testset_1000_20.txt     1000      0.164828   3.492530   \n",
       "21  ./exemplaires/testset_1000_21.txt     1000      0.156617   4.265470   \n",
       "22  ./exemplaires/testset_1000_22.txt     1000      0.155272   1.502310   \n",
       "23  ./exemplaires/testset_1000_23.txt     1000      0.150359   0.945712   \n",
       "24  ./exemplaires/testset_1000_24.txt     1000      0.191856   1.259550   \n",
       "\n",
       "    timeQuickSeuil  timeQuickRdmSeuil serie  \n",
       "20        3.515890           0.317019     2  \n",
       "21        4.331570           0.373613     2  \n",
       "22        1.398380           0.332966     2  \n",
       "23        0.974354           0.388628     2  \n",
       "24        1.263130           0.333169     2  "
      ]
     },
     "execution_count": 9,
     "metadata": {},
     "output_type": "execute_result"
    }
   ],
   "source": [
    "serieC = data.loc[data[\"serie\"] == \"2\"]\n",
    "serieC.head()"
   ]
  },
  {
   "cell_type": "code",
   "execution_count": 45,
   "metadata": {},
   "outputs": [],
   "source": [
    "serieA = serieA.groupby(\"numbers\").mean().reset_index()"
   ]
  },
  {
   "cell_type": "code",
   "execution_count": 46,
   "metadata": {},
   "outputs": [
    {
     "data": {
      "text/html": [
       "<div>\n",
       "<style scoped>\n",
       "    .dataframe tbody tr th:only-of-type {\n",
       "        vertical-align: middle;\n",
       "    }\n",
       "\n",
       "    .dataframe tbody tr th {\n",
       "        vertical-align: top;\n",
       "    }\n",
       "\n",
       "    .dataframe thead th {\n",
       "        text-align: right;\n",
       "    }\n",
       "</style>\n",
       "<table border=\"1\" class=\"dataframe\">\n",
       "  <thead>\n",
       "    <tr style=\"text-align: right;\">\n",
       "      <th></th>\n",
       "      <th>numbers</th>\n",
       "      <th>timeCounting</th>\n",
       "      <th>timeQuick</th>\n",
       "      <th>timeQuickSeuil</th>\n",
       "      <th>timeQuickRdmSeuil</th>\n",
       "    </tr>\n",
       "  </thead>\n",
       "  <tbody>\n",
       "    <tr>\n",
       "      <th>0</th>\n",
       "      <td>1000</td>\n",
       "      <td>2300.91</td>\n",
       "      <td>0.399006</td>\n",
       "      <td>0.392279</td>\n",
       "      <td>0.40022</td>\n",
       "    </tr>\n",
       "  </tbody>\n",
       "</table>\n",
       "</div>"
      ],
      "text/plain": [
       "   numbers  timeCounting  timeQuick  timeQuickSeuil  timeQuickRdmSeuil\n",
       "0     1000       2300.91   0.399006        0.392279            0.40022"
      ]
     },
     "execution_count": 46,
     "metadata": {},
     "output_type": "execute_result"
    }
   ],
   "source": [
    "serieB = serieB.groupby(\"numbers\").mean().reset_index()\n",
    "serieC = serieC.groupby(\"numbers\").mean().reset_index()\n",
    "\n",
    "serieBCountingMean = serieBCounting.groupby(\"numbers\").mean().reset_index()\n",
    "serieBCountingMean"
   ]
  },
  {
   "cell_type": "markdown",
   "metadata": {},
   "source": [
    "# TABLEAUX"
   ]
  },
  {
   "cell_type": "code",
   "execution_count": 47,
   "metadata": {},
   "outputs": [
    {
     "data": {
      "text/html": [
       "<div>\n",
       "<style scoped>\n",
       "    .dataframe tbody tr th:only-of-type {\n",
       "        vertical-align: middle;\n",
       "    }\n",
       "\n",
       "    .dataframe tbody tr th {\n",
       "        vertical-align: top;\n",
       "    }\n",
       "\n",
       "    .dataframe thead th {\n",
       "        text-align: right;\n",
       "    }\n",
       "</style>\n",
       "<table border=\"1\" class=\"dataframe\">\n",
       "  <thead>\n",
       "    <tr style=\"text-align: right;\">\n",
       "      <th></th>\n",
       "      <th>numbers</th>\n",
       "      <th>timeCounting</th>\n",
       "      <th>timeQuick</th>\n",
       "      <th>timeQuickSeuil</th>\n",
       "      <th>timeQuickRdmSeuil</th>\n",
       "    </tr>\n",
       "  </thead>\n",
       "  <tbody>\n",
       "    <tr>\n",
       "      <th>0</th>\n",
       "      <td>1000</td>\n",
       "      <td>0.115611</td>\n",
       "      <td>0.472569</td>\n",
       "      <td>0.432465</td>\n",
       "      <td>0.439416</td>\n",
       "    </tr>\n",
       "    <tr>\n",
       "      <th>1</th>\n",
       "      <td>5000</td>\n",
       "      <td>0.512038</td>\n",
       "      <td>2.536519</td>\n",
       "      <td>2.450179</td>\n",
       "      <td>2.437307</td>\n",
       "    </tr>\n",
       "    <tr>\n",
       "      <th>2</th>\n",
       "      <td>10000</td>\n",
       "      <td>0.806963</td>\n",
       "      <td>5.227842</td>\n",
       "      <td>5.053352</td>\n",
       "      <td>5.364637</td>\n",
       "    </tr>\n",
       "    <tr>\n",
       "      <th>3</th>\n",
       "      <td>50000</td>\n",
       "      <td>4.098182</td>\n",
       "      <td>32.049810</td>\n",
       "      <td>30.790810</td>\n",
       "      <td>30.441270</td>\n",
       "    </tr>\n",
       "    <tr>\n",
       "      <th>4</th>\n",
       "      <td>100000</td>\n",
       "      <td>8.136531</td>\n",
       "      <td>66.929330</td>\n",
       "      <td>64.510050</td>\n",
       "      <td>65.131230</td>\n",
       "    </tr>\n",
       "    <tr>\n",
       "      <th>5</th>\n",
       "      <td>500000</td>\n",
       "      <td>45.746020</td>\n",
       "      <td>379.150500</td>\n",
       "      <td>369.774700</td>\n",
       "      <td>373.119600</td>\n",
       "    </tr>\n",
       "  </tbody>\n",
       "</table>\n",
       "</div>"
      ],
      "text/plain": [
       "   numbers  timeCounting   timeQuick  timeQuickSeuil  timeQuickRdmSeuil\n",
       "0     1000      0.115611    0.472569        0.432465           0.439416\n",
       "1     5000      0.512038    2.536519        2.450179           2.437307\n",
       "2    10000      0.806963    5.227842        5.053352           5.364637\n",
       "3    50000      4.098182   32.049810       30.790810          30.441270\n",
       "4   100000      8.136531   66.929330       64.510050          65.131230\n",
       "5   500000     45.746020  379.150500      369.774700         373.119600"
      ]
     },
     "execution_count": 47,
     "metadata": {},
     "output_type": "execute_result"
    }
   ],
   "source": [
    "serieA"
   ]
  },
  {
   "cell_type": "code",
   "execution_count": 48,
   "metadata": {},
   "outputs": [
    {
     "data": {
      "text/html": [
       "<div>\n",
       "<style scoped>\n",
       "    .dataframe tbody tr th:only-of-type {\n",
       "        vertical-align: middle;\n",
       "    }\n",
       "\n",
       "    .dataframe tbody tr th {\n",
       "        vertical-align: top;\n",
       "    }\n",
       "\n",
       "    .dataframe thead th {\n",
       "        text-align: right;\n",
       "    }\n",
       "</style>\n",
       "<table border=\"1\" class=\"dataframe\">\n",
       "  <thead>\n",
       "    <tr style=\"text-align: right;\">\n",
       "      <th></th>\n",
       "      <th>numbers</th>\n",
       "      <th>timeCounting</th>\n",
       "      <th>timeQuick</th>\n",
       "      <th>timeQuickSeuil</th>\n",
       "      <th>timeQuickRdmSeuil</th>\n",
       "    </tr>\n",
       "  </thead>\n",
       "  <tbody>\n",
       "    <tr>\n",
       "      <th>0</th>\n",
       "      <td>1000</td>\n",
       "      <td>2300.91</td>\n",
       "      <td>0.399006</td>\n",
       "      <td>0.392279</td>\n",
       "      <td>0.400220</td>\n",
       "    </tr>\n",
       "    <tr>\n",
       "      <th>1</th>\n",
       "      <td>5000</td>\n",
       "      <td>0.00</td>\n",
       "      <td>2.391536</td>\n",
       "      <td>2.346480</td>\n",
       "      <td>2.385079</td>\n",
       "    </tr>\n",
       "    <tr>\n",
       "      <th>2</th>\n",
       "      <td>10000</td>\n",
       "      <td>0.00</td>\n",
       "      <td>5.166858</td>\n",
       "      <td>5.042762</td>\n",
       "      <td>5.266829</td>\n",
       "    </tr>\n",
       "    <tr>\n",
       "      <th>3</th>\n",
       "      <td>50000</td>\n",
       "      <td>0.00</td>\n",
       "      <td>31.241700</td>\n",
       "      <td>30.976820</td>\n",
       "      <td>30.772840</td>\n",
       "    </tr>\n",
       "    <tr>\n",
       "      <th>4</th>\n",
       "      <td>100000</td>\n",
       "      <td>0.00</td>\n",
       "      <td>66.057810</td>\n",
       "      <td>65.224070</td>\n",
       "      <td>64.295480</td>\n",
       "    </tr>\n",
       "    <tr>\n",
       "      <th>5</th>\n",
       "      <td>500000</td>\n",
       "      <td>0.00</td>\n",
       "      <td>363.278400</td>\n",
       "      <td>359.408600</td>\n",
       "      <td>372.420000</td>\n",
       "    </tr>\n",
       "  </tbody>\n",
       "</table>\n",
       "</div>"
      ],
      "text/plain": [
       "   numbers  timeCounting   timeQuick  timeQuickSeuil  timeQuickRdmSeuil\n",
       "0     1000       2300.91    0.399006        0.392279           0.400220\n",
       "1     5000          0.00    2.391536        2.346480           2.385079\n",
       "2    10000          0.00    5.166858        5.042762           5.266829\n",
       "3    50000          0.00   31.241700       30.976820          30.772840\n",
       "4   100000          0.00   66.057810       65.224070          64.295480\n",
       "5   500000          0.00  363.278400      359.408600         372.420000"
      ]
     },
     "execution_count": 48,
     "metadata": {},
     "output_type": "execute_result"
    }
   ],
   "source": [
    "serieB"
   ]
  },
  {
   "cell_type": "code",
   "execution_count": 49,
   "metadata": {},
   "outputs": [
    {
     "data": {
      "text/html": [
       "<div>\n",
       "<style scoped>\n",
       "    .dataframe tbody tr th:only-of-type {\n",
       "        vertical-align: middle;\n",
       "    }\n",
       "\n",
       "    .dataframe tbody tr th {\n",
       "        vertical-align: top;\n",
       "    }\n",
       "\n",
       "    .dataframe thead th {\n",
       "        text-align: right;\n",
       "    }\n",
       "</style>\n",
       "<table border=\"1\" class=\"dataframe\">\n",
       "  <thead>\n",
       "    <tr style=\"text-align: right;\">\n",
       "      <th></th>\n",
       "      <th>numbers</th>\n",
       "      <th>timeCounting</th>\n",
       "      <th>timeQuick</th>\n",
       "      <th>timeQuickSeuil</th>\n",
       "      <th>timeQuickRdmSeuil</th>\n",
       "    </tr>\n",
       "  </thead>\n",
       "  <tbody>\n",
       "    <tr>\n",
       "      <th>0</th>\n",
       "      <td>1000</td>\n",
       "      <td>0.177699</td>\n",
       "      <td>2.518323</td>\n",
       "      <td>2.457705</td>\n",
       "      <td>0.353638</td>\n",
       "    </tr>\n",
       "    <tr>\n",
       "      <th>1</th>\n",
       "      <td>5000</td>\n",
       "      <td>0.889351</td>\n",
       "      <td>8.378851</td>\n",
       "      <td>8.459377</td>\n",
       "      <td>2.204078</td>\n",
       "    </tr>\n",
       "    <tr>\n",
       "      <th>2</th>\n",
       "      <td>10000</td>\n",
       "      <td>1.471629</td>\n",
       "      <td>17.783860</td>\n",
       "      <td>18.128350</td>\n",
       "      <td>4.968632</td>\n",
       "    </tr>\n",
       "    <tr>\n",
       "      <th>3</th>\n",
       "      <td>50000</td>\n",
       "      <td>7.222169</td>\n",
       "      <td>102.791860</td>\n",
       "      <td>103.358160</td>\n",
       "      <td>27.511370</td>\n",
       "    </tr>\n",
       "    <tr>\n",
       "      <th>4</th>\n",
       "      <td>100000</td>\n",
       "      <td>14.689970</td>\n",
       "      <td>189.747900</td>\n",
       "      <td>190.020700</td>\n",
       "      <td>59.188180</td>\n",
       "    </tr>\n",
       "    <tr>\n",
       "      <th>5</th>\n",
       "      <td>500000</td>\n",
       "      <td>83.406050</td>\n",
       "      <td>1490.861500</td>\n",
       "      <td>1489.347200</td>\n",
       "      <td>334.249000</td>\n",
       "    </tr>\n",
       "  </tbody>\n",
       "</table>\n",
       "</div>"
      ],
      "text/plain": [
       "   numbers  timeCounting    timeQuick  timeQuickSeuil  timeQuickRdmSeuil\n",
       "0     1000      0.177699     2.518323        2.457705           0.353638\n",
       "1     5000      0.889351     8.378851        8.459377           2.204078\n",
       "2    10000      1.471629    17.783860       18.128350           4.968632\n",
       "3    50000      7.222169   102.791860      103.358160          27.511370\n",
       "4   100000     14.689970   189.747900      190.020700          59.188180\n",
       "5   500000     83.406050  1490.861500     1489.347200         334.249000"
      ]
     },
     "execution_count": 49,
     "metadata": {},
     "output_type": "execute_result"
    }
   ],
   "source": [
    "serieC"
   ]
  },
  {
   "cell_type": "markdown",
   "metadata": {},
   "source": [
    "# TEST DE PUISSANCE"
   ]
  },
  {
   "cell_type": "markdown",
   "metadata": {},
   "source": [
    "## Graphs de base"
   ]
  },
  {
   "cell_type": "code",
   "execution_count": 55,
   "metadata": {},
   "outputs": [
    {
     "data": {
      "image/png": "[encoded data removed]",
      "text/plain": [
       "<Figure size 792x432 with 1 Axes>"
      ]
     },
     "metadata": {
      "needs_background": "light"
     },
     "output_type": "display_data"
    },
    {
     "data": {
      "image/png": "[encoded data removed]",
      "text/plain": [
       "<Figure size 792x432 with 1 Axes>"
      ]
     },
     "metadata": {
      "needs_background": "light"
     },
     "output_type": "display_data"
    },
    {
     "data": {
      "image/png": "[encoded data removed]",
      "text/plain": [
       "<Figure size 792x432 with 1 Axes>"
      ]
     },
     "metadata": {
      "needs_background": "light"
     },
     "output_type": "display_data"
    }
   ],
   "source": [
    "import matplotlib.pyplot as plt\n",
    "\n",
    "#Serie A\n",
    "plt.figure(figsize=(11,6))\n",
    "plt.scatter(serieA[\"numbers\"], serieA[\"timeCounting\"])\n",
    "plt.scatter(serieA[\"numbers\"], serieA[\"timeQuick\"])\n",
    "plt.scatter(serieA[\"numbers\"], serieA[\"timeQuickSeuil\"])\n",
    "plt.scatter(serieA[\"numbers\"], serieA[\"timeQuickRdmSeuil\"])\n",
    "plt.title('Serie A')\n",
    "plt.xlabel('numbers')\n",
    "plt.ylabel('time (ms)')\n",
    "plt.legend()\n",
    "plt.show()\n",
    "\n",
    "plt.figure(figsize=(11,6))\n",
    "\n",
    "#Serie B (avec le temps pour dénombrement seulement n=1000)\n",
    "plt.scatter(serieBCountingMean[\"numbers\"], serieBCountingMean[\"timeCounting\"])\n",
    "plt.scatter(serieB[\"numbers\"], serieB[\"timeQuick\"])\n",
    "plt.scatter(serieB[\"numbers\"], serieB[\"timeQuickSeuil\"])\n",
    "plt.scatter(serieB[\"numbers\"], serieB[\"timeQuickRdmSeuil\"])\n",
    "plt.title('Serie B')\n",
    "plt.xlabel('numbers')\n",
    "plt.ylabel('time (ms)')\n",
    "plt.legend()\n",
    "plt.show()\n",
    "\n",
    "#Serie C\n",
    "plt.figure(figsize=(11,6))\n",
    "plt.scatter(serieC[\"numbers\"], serieC[\"timeCounting\"])\n",
    "plt.scatter(serieC[\"numbers\"], serieC[\"timeQuick\"])\n",
    "plt.scatter(serieC[\"numbers\"], serieC[\"timeQuickSeuil\"])\n",
    "plt.scatter(serieC[\"numbers\"], serieC[\"timeQuickRdmSeuil\"])\n",
    "plt.title('Serie C')\n",
    "plt.xlabel('numbers')\n",
    "plt.ylabel('time (ms)')\n",
    "plt.legend()\n",
    "plt.show()\n"
   ]
  },
  {
   "cell_type": "markdown",
   "metadata": {},
   "source": [
    "## Graphs log-log"
   ]
  },
  {
   "cell_type": "code",
   "execution_count": 115,
   "metadata": {},
   "outputs": [],
   "source": [
    "from sklearn.linear_model import LinearRegression\n",
    "from scipy.optimize import curve_fit\n",
    "import numpy as np\n",
    "import math"
   ]
  },
  {
   "cell_type": "code",
   "execution_count": null,
   "metadata": {},
   "outputs": [],
   "source": []
  },
  {
   "cell_type": "code",
   "execution_count": 129,
   "metadata": {},
   "outputs": [],
   "source": [
    "\n",
    "\n",
    "def plotLog(serie):\n",
    "    plt.figure(figsize=(11,6))\n",
    "    plt.loglog(serie[\"numbers\"], serie[\"timeCounting\"])\n",
    "    plt.loglog(serie[\"numbers\"], serie[\"timeQuick\"])\n",
    "    plt.loglog(serie[\"numbers\"], serie[\"timeQuickSeuil\"])\n",
    "    plt.loglog(serie[\"numbers\"], serie[\"timeQuickRdmSeuil\"])\n",
    "    plt.xlabel('numbers')\n",
    "    plt.ylabel('time (ms)')\n",
    "    plt.legend()\n",
    "\n",
    "\n",
    "\n"
   ]
  },
  {
   "cell_type": "code",
   "execution_count": 80,
   "metadata": {},
   "outputs": [
    {
     "data": {
      "image/png": "[encoded data removed]",
      "text/plain": [
       "<Figure size 792x432 with 1 Axes>"
      ]
     },
     "metadata": {
      "needs_background": "light"
     },
     "output_type": "display_data"
    },
    {
     "data": {
      "image/png": "[encoded data removed]",
      "text/plain": [
       "<Figure size 792x432 with 1 Axes>"
      ]
     },
     "metadata": {
      "needs_background": "light"
     },
     "output_type": "display_data"
    },
    {
     "data": {
      "image/png": "[encoded data removed]",
      "text/plain": [
       "<Figure size 792x432 with 1 Axes>"
      ]
     },
     "metadata": {
      "needs_background": "light"
     },
     "output_type": "display_data"
    }
   ],
   "source": [
    "\n",
    "\n",
    "#Serie A\n",
    "plotLog(serieA)\n",
    "plt.title('Serie A')\n",
    "plt.show()\n",
    "\n",
    "#Serie B (avec le temps pour dénombrement seulement n=1000)\n",
    "plt.figure(figsize=(11,6))\n",
    "plt.loglog(serieBCountingMean[\"numbers\"], serieBCountingMean[\"timeCounting\"])\n",
    "plt.loglog(serieB[\"numbers\"], serieB[\"timeQuick\"])\n",
    "plt.loglog(serieB[\"numbers\"], serieB[\"timeQuickSeuil\"])\n",
    "plt.loglog(serieB[\"numbers\"], serieB[\"timeQuickRdmSeuil\"])\n",
    "plt.xlabel('numbers')\n",
    "plt.ylabel('time (ms)')\n",
    "plt.legend()\n",
    "plt.title('Serie B')\n",
    "plt.show()\n",
    "\n",
    "#Serie C\n",
    "plotLog(serieC)\n",
    "plt.title('Serie C')\n",
    "plt.show()"
   ]
  },
  {
   "cell_type": "markdown",
   "metadata": {},
   "source": [
    "## Linear regression on log(numbers) and log(time)"
   ]
  },
  {
   "cell_type": "code",
   "execution_count": 156,
   "metadata": {},
   "outputs": [
    {
     "ename": "SyntaxError",
     "evalue": "invalid syntax (<ipython-input-156-43c8d6ac9140>, line 19)",
     "output_type": "error",
     "traceback": [
      "\u001b[1;36m  File \u001b[1;32m\"<ipython-input-156-43c8d6ac9140>\"\u001b[1;36m, line \u001b[1;32m19\u001b[0m\n\u001b[1;33m    print \"\\tm = popt[0] = {0}\\n\\tb = popt[1] = {1}\".format(*popt)\u001b[0m\n\u001b[1;37m        ^\u001b[0m\n\u001b[1;31mSyntaxError\u001b[0m\u001b[1;31m:\u001b[0m invalid syntax\n"
     ]
    }
   ],
   "source": [
    "def logDroiteFunction(logx, m, b):\n",
    "    return m*logx + b\n",
    "\n",
    "def computeR2(popt, pcov, xdata, ydata):\n",
    "    residuals = ydata- logDroiteFunction(xdata, *popt)\n",
    "    ss_res = np.sum(residuals**2)\n",
    "    ss_tot = np.sum((ydata-np.mean(ydata))**2)\n",
    "    return (1 - (ss_res / ss_tot))\n",
    "\n",
    "def linearLogRegressionLine(serie, algo):\n",
    "    logSerie = serie\n",
    "    logSerie[\"logx\"] = np.log10(serie[\"numbers\"])\n",
    "    logSerie[\"logy\"] = np.log10(serie[algo])\n",
    "    popt, pcov = curve_fit(logDroiteFunction, logSerie[\"logx\"], logSerie[\"logy\"])\n",
    "    plt.plot(logSerie[\"logx\"], logDroiteFunction(logSerie[\"logx\"], *popt),  \n",
    "         label=algo + \" ({0:.3f}*x**{1:.3f})\".format(*popt))\n",
    "    print algo\n",
    "    print (\"\\t R2: \" + str(computeR2(popt, pcov, logSerie[\"logx\"], logSerie[\"logy\"]))\n",
    "    print \"\\tm = popt[0] = {0}\\n\\tb = popt[1] = {1}\".format(*popt)\n",
    "    \n",
    "def plotScatterLinRegr(serie):\n",
    "    plt.figure(figsize=(11,6))\n",
    "    \n",
    "    linearLogRegressionLine(serie, \"timeCounting\")\n",
    "    linearLogRegressionLine(serie, \"timeQuick\")\n",
    "    linearLogRegressionLine(serie, \"timeQuickSeuil\")\n",
    "    linearLogRegressionLine(serie, \"timeQuickRdmSeuil\")\n",
    "    \n",
    "    plt.scatter(np.log10(serie[\"numbers\"]), np.log10(serie[\"timeCounting\"]))\n",
    "    plt.scatter(np.log10(serie[\"numbers\"]), np.log10(serie[\"timeQuick\"]))\n",
    "    plt.scatter(np.log10(serie[\"numbers\"]), np.log10(serie[\"timeQuickSeuil\"]))\n",
    "    plt.scatter(np.log10(serie[\"numbers\"]), np.log10(serie[\"timeQuickRdmSeuil\"]))\n",
    "    plt.xlabel('log(numbers)')\n",
    "    plt.ylabel('log(time)')\n",
    "    plt.legend()\n",
    "    "
   ]
  },
  {
   "cell_type": "code",
   "execution_count": 155,
   "metadata": {},
   "outputs": [
    {
     "name": "stdout",
     "output_type": "stream",
     "text": [
      "timeCounting\n"
     ]
    },
    {
     "ename": "TypeError",
     "evalue": "cannot concatenate 'str' and 'numpy.float64' objects",
     "output_type": "error",
     "traceback": [
      "\u001b[1;31m---------------------------------------------------------------------------\u001b[0m",
      "\u001b[1;31mTypeError\u001b[0m                                 Traceback (most recent call last)",
      "\u001b[1;32m<ipython-input-155-d1d6462316f2>\u001b[0m in \u001b[0;36m<module>\u001b[1;34m()\u001b[0m\n\u001b[0;32m      1\u001b[0m \u001b[1;31m#Serie A\u001b[0m\u001b[1;33m\u001b[0m\u001b[1;33m\u001b[0m\u001b[0m\n\u001b[1;32m----> 2\u001b[1;33m \u001b[0mplotScatterLinRegr\u001b[0m\u001b[1;33m(\u001b[0m\u001b[0mserieA\u001b[0m\u001b[1;33m)\u001b[0m\u001b[1;33m\u001b[0m\u001b[0m\n\u001b[0m\u001b[0;32m      3\u001b[0m \u001b[0mplt\u001b[0m\u001b[1;33m.\u001b[0m\u001b[0mtitle\u001b[0m\u001b[1;33m(\u001b[0m\u001b[1;34m'Serie A'\u001b[0m\u001b[1;33m)\u001b[0m\u001b[1;33m\u001b[0m\u001b[0m\n\u001b[0;32m      4\u001b[0m \u001b[0mplt\u001b[0m\u001b[1;33m.\u001b[0m\u001b[0mshow\u001b[0m\u001b[1;33m(\u001b[0m\u001b[1;33m)\u001b[0m\u001b[1;33m\u001b[0m\u001b[0m\n",
      "\u001b[1;32m<ipython-input-154-1fad8ee40eca>\u001b[0m in \u001b[0;36mplotScatterLinRegr\u001b[1;34m(serie)\u001b[0m\n\u001b[0;32m     22\u001b[0m     \u001b[0mplt\u001b[0m\u001b[1;33m.\u001b[0m\u001b[0mfigure\u001b[0m\u001b[1;33m(\u001b[0m\u001b[0mfigsize\u001b[0m\u001b[1;33m=\u001b[0m\u001b[1;33m(\u001b[0m\u001b[1;36m11\u001b[0m\u001b[1;33m,\u001b[0m\u001b[1;36m6\u001b[0m\u001b[1;33m)\u001b[0m\u001b[1;33m)\u001b[0m\u001b[1;33m\u001b[0m\u001b[0m\n\u001b[0;32m     23\u001b[0m \u001b[1;33m\u001b[0m\u001b[0m\n\u001b[1;32m---> 24\u001b[1;33m     \u001b[0mlinearLogRegressionLine\u001b[0m\u001b[1;33m(\u001b[0m\u001b[0mserie\u001b[0m\u001b[1;33m,\u001b[0m \u001b[1;34m\"timeCounting\"\u001b[0m\u001b[1;33m)\u001b[0m\u001b[1;33m\u001b[0m\u001b[0m\n\u001b[0m\u001b[0;32m     25\u001b[0m     \u001b[0mlinearLogRegressionLine\u001b[0m\u001b[1;33m(\u001b[0m\u001b[0mserie\u001b[0m\u001b[1;33m,\u001b[0m \u001b[1;34m\"timeQuick\"\u001b[0m\u001b[1;33m)\u001b[0m\u001b[1;33m\u001b[0m\u001b[0m\n\u001b[0;32m     26\u001b[0m     \u001b[0mlinearLogRegressionLine\u001b[0m\u001b[1;33m(\u001b[0m\u001b[0mserie\u001b[0m\u001b[1;33m,\u001b[0m \u001b[1;34m\"timeQuickSeuil\"\u001b[0m\u001b[1;33m)\u001b[0m\u001b[1;33m\u001b[0m\u001b[0m\n",
      "\u001b[1;32m<ipython-input-154-1fad8ee40eca>\u001b[0m in \u001b[0;36mlinearLogRegressionLine\u001b[1;34m(serie, algo)\u001b[0m\n\u001b[0;32m     16\u001b[0m          label=algo + \" ({0:.3f}*x**{1:.3f})\".format(*popt))\n\u001b[0;32m     17\u001b[0m     \u001b[1;32mprint\u001b[0m \u001b[0malgo\u001b[0m\u001b[1;33m\u001b[0m\u001b[0m\n\u001b[1;32m---> 18\u001b[1;33m     \u001b[1;32mprint\u001b[0m \u001b[1;33m(\u001b[0m\u001b[1;34m\"\\t R2: \"\u001b[0m \u001b[1;33m+\u001b[0m \u001b[0mcomputeR2\u001b[0m\u001b[1;33m(\u001b[0m\u001b[0mpopt\u001b[0m\u001b[1;33m,\u001b[0m \u001b[0mpcov\u001b[0m\u001b[1;33m,\u001b[0m \u001b[0mlogSerie\u001b[0m\u001b[1;33m[\u001b[0m\u001b[1;34m\"logx\"\u001b[0m\u001b[1;33m]\u001b[0m\u001b[1;33m,\u001b[0m \u001b[0mlogSerie\u001b[0m\u001b[1;33m[\u001b[0m\u001b[1;34m\"logy\"\u001b[0m\u001b[1;33m]\u001b[0m\u001b[1;33m)\u001b[0m\u001b[1;33m)\u001b[0m\u001b[1;33m\u001b[0m\u001b[0m\n\u001b[0m\u001b[0;32m     19\u001b[0m     \u001b[1;32mprint\u001b[0m \u001b[1;34m\"\\tm = popt[0] = {0}\\n\\tb = popt[1] = {1}\"\u001b[0m\u001b[1;33m.\u001b[0m\u001b[0mformat\u001b[0m\u001b[1;33m(\u001b[0m\u001b[1;33m*\u001b[0m\u001b[0mpopt\u001b[0m\u001b[1;33m)\u001b[0m\u001b[1;33m\u001b[0m\u001b[0m\n\u001b[0;32m     20\u001b[0m \u001b[1;33m\u001b[0m\u001b[0m\n",
      "\u001b[1;31mTypeError\u001b[0m: cannot concatenate 'str' and 'numpy.float64' objects"
     ]
    },
    {
     "data": {
      "image/png": "[encoded data removed]",
      "text/plain": [
       "<Figure size 792x432 with 1 Axes>"
      ]
     },
     "metadata": {
      "needs_background": "light"
     },
     "output_type": "display_data"
    }
   ],
   "source": [
    "#Serie A\n",
    "plotScatterLinRegr(serieA)\n",
    "plt.title('Serie A')\n",
    "plt.show()"
   ]
  },
  {
   "cell_type": "code",
   "execution_count": 141,
   "metadata": {},
   "outputs": [
    {
     "name": "stdout",
     "output_type": "stream",
     "text": [
      "timeQuick\n",
      "\tm = popt[0] = 1.09958455917\n",
      "\tb = popt[1] = -3.68799642598\n",
      "timeQuickSeuil\n",
      "\tm = popt[0] = 1.10124738315\n",
      "\tb = popt[1] = -3.70190667638\n",
      "timeQuickRdmSeuil\n",
      "\tm = popt[0] = 1.09973335247\n",
      "\tb = popt[1] = -3.68848500053\n"
     ]
    },
    {
     "name": "stderr",
     "output_type": "stream",
     "text": [
      "c:\\python27\\lib\\site-packages\\ipykernel_launcher.py:8: RuntimeWarning: divide by zero encountered in log10\n",
      "  \n"
     ]
    },
    {
     "data": {
      "text/plain": [
       "<matplotlib.legend.Legend at 0x2692b780>"
      ]
     },
     "execution_count": 141,
     "metadata": {},
     "output_type": "execute_result"
    },
    {
     "data": {
      "image/png": "[encoded data removed]",
      "text/plain": [
       "<Figure size 792x432 with 1 Axes>"
      ]
     },
     "metadata": {
      "needs_background": "light"
     },
     "output_type": "display_data"
    }
   ],
   "source": [
    "#Serie B\n",
    "plt.figure(figsize=(11,6))\n",
    "\n",
    "linearLogRegressionLine(serieB, \"timeQuick\")\n",
    "linearLogRegressionLine(serieB, \"timeQuickSeuil\")\n",
    "linearLogRegressionLine(serieB, \"timeQuickRdmSeuil\")\n",
    "\n",
    "plt.scatter(np.log10(serieB[\"numbers\"]), np.log10(serieB[\"timeCounting\"]))\n",
    "plt.scatter(np.log10(serieB[\"numbers\"]), np.log10(serieB[\"timeQuick\"]))\n",
    "plt.scatter(np.log10(serieB[\"numbers\"]), np.log10(serieB[\"timeQuickSeuil\"]))\n",
    "plt.scatter(np.log10(serieB[\"numbers\"]), np.log10(serieB[\"timeQuickRdmSeuil\"]))\n",
    "plt.xlabel('log(numbers)')\n",
    "plt.ylabel('log(time)')\n",
    "plt.legend()"
   ]
  },
  {
   "cell_type": "code",
   "execution_count": 142,
   "metadata": {},
   "outputs": [
    {
     "name": "stdout",
     "output_type": "stream",
     "text": [
      "timeCounting\n",
      "\tm = popt[0] = 0.980153276352\n",
      "\tb = popt[1] = -3.71092147226\n",
      "timeQuick\n",
      "\tm = popt[0] = 1.03298243272\n",
      "\tb = popt[1] = -2.8199591041\n",
      "timeQuickSeuil\n",
      "\tm = popt[0] = 1.03494949116\n",
      "\tb = popt[1] = -2.82776927015\n",
      "timeQuickRdmSeuil\n",
      "\tm = popt[0] = 1.09971268476\n",
      "\tb = popt[1] = -3.72921050991\n"
     ]
    },
    {
     "data": {
      "image/png": "[encoded data removed]",
      "text/plain": [
       "<Figure size 792x432 with 1 Axes>"
      ]
     },
     "metadata": {
      "needs_background": "light"
     },
     "output_type": "display_data"
    }
   ],
   "source": [
    "#Serie C\n",
    "plotScatterLinRegr(serieC)\n",
    "plt.title('Serie C')\n",
    "plt.show()"
   ]
  },
  {
   "cell_type": "code",
   "execution_count": null,
   "metadata": {},
   "outputs": [],
   "source": []
  }
 ],
 "metadata": {
  "kernelspec": {
   "display_name": "Python 2",
   "language": "python",
   "name": "python2"
  }
 },
 "nbformat": 4,
 "nbformat_minor": 1
}
