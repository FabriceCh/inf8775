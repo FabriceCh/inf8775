{
 "cells": [
  {
   "cell_type": "code",
   "execution_count": 7,
   "metadata": {
    "collapsed": false
   },
   "outputs": [
    {
     "name": "stdout",
     "output_type": "stream",
     "text": [
      "   group  timeCounting  timeQuick  timeQuickSeuil  timeQuickRdmSeuil\n0      1      9.000000   0.363730        0.384540           0.332801\n1      2      9.900000   0.400103        0.422994           0.366081\n2      3      9.990000   0.403740        0.426839           0.369409\n3      4      9.999000   0.404104        0.427224           0.369742\n4      5      9.999900   0.404140        0.427262           0.369775\n5      6      9.999990   0.404144        0.427266           0.369779\n6      7      9.999999   0.404144        0.427267           0.369779\n7      8     10.000000   0.404144        0.427267           0.369779\n8      9     10.000000   0.404144        0.427267           0.369779\n"
     ]
    }
   ],
   "source": [
    "import pandas as pd\n",
    "import os\n",
    "\n",
    "cwd = os.getcwd()\n",
    "path = \"C:\\\\Users\\\\Joel\\\\Documents\\\\inf8775\\\\tp1\\\\tp1-H19\\\\results\\\\comparaison.csv\"\n",
    "data = pd.read_csv(path)\n",
    "\n",
    "meanTimeCounting = 0\n",
    "meanTimeQuick = 0\n",
    "meanTimeQuickSeuil = 0\n",
    "meanTimeQuickRdmSeuil = 0\n",
    "\n",
    "meanTimeCountingSerieA = 0\n",
    "meanTimeCountingSerieB = 0\n",
    "meanTimeCountingSerieC = 0\n",
    "\n",
    "meanTimeQuickSerieA = 0 \n",
    "meanTimeQuickSerieB = 0 \n",
    "meanTimeQuickSerieC = 0 \n",
    "\n",
    "meanTimeQuickSeuilSerieA = 0 \n",
    "meanTimeQuickSeuilSerieB = 0\n",
    "meanTimeQuickSeuilSerieC = 0\n",
    "\n",
    "meanTimeQuickRdmSeuilSerieA = 0\n",
    "meanTimeQuickRdmSeuilSerieB = 0\n",
    "meanTimeQuickRdmSeuilSerieC = 0\n",
    "\n",
    "group = []\n",
    "groupInt = 1\n",
    "timeQuickData = []\n",
    "timeCountingData = []\n",
    "timeQuickSeuilData = []\n",
    "timeQuickRdmSeuilData = []\n",
    "\n",
    "NUMERO_SERIE = 9\n",
    "NOMBRE_GROUPE_PAR_GROS_CHIFFRE = 3\n",
    "NOMBRE_DE_GROS_CHIFFRES = 3\n",
    "\n",
    "for k in range(NOMBRE_DE_GROS_CHIFFRES):\n",
    "    for i in range(NOMBRE_GROUPE_PAR_GROS_CHIFFRE):\n",
    "        for j in range(NUMERO_SERIE):\n",
    "            timeCounting = data.iat[j + 1, 2]\n",
    "            timeQuick = data.iat[j + 1, 3]\n",
    "            timeQuickSeuil = data.iat[j + 1, 4]\n",
    "            timeQuickRdmSeuil = data.iat[j + 1, 5]\n",
    "            meanTimeCounting += timeCounting\n",
    "            meanTimeQuick += timeQuick\n",
    "            meanTimeQuickSeuil += timeQuickSeuil\n",
    "            meanTimeQuickRdmSeuil += timeQuickRdmSeuil\n",
    "        meanTimeCounting /= 10\n",
    "        meanTimeQuick /= 10\n",
    "        meanTimeQuickSeuil /= 10\n",
    "        meanTimeQuickRdmSeuil /= 10\n",
    "        if i == 0:\n",
    "            meanTimeCountingSerieA = meanTimeCounting\n",
    "            meanTimeQuickSerieA = meanTimeQuick\n",
    "            meanTimeQuickSeuilSerieA = meanTimeQuickSeuil\n",
    "            meanTimeQuickRdmSeuilSerieA = meanTimeQuickRdmSeuil\n",
    "            timeCountingData.append(meanTimeCountingSerieA)\n",
    "            timeQuickData.append(meanTimeQuickSerieA)\n",
    "            timeQuickSeuilData.append(meanTimeQuickSeuilSerieA)\n",
    "            timeQuickRdmSeuilData.append(meanTimeQuickRdmSeuilSerieA)\n",
    "            group.append(groupInt)\n",
    "            groupInt += 1\n",
    "        if i == 1:\n",
    "            meanTimeCountingSerieB = meanTimeCounting\n",
    "            meanTimeQuickSerieB = meanTimeQuick\n",
    "            meanTimeQuickSeuilSerieB = meanTimeQuickSeuil\n",
    "            meanTimeQuickRdmSeuilSerieB = meanTimeQuickRdmSeuil\n",
    "            timeCountingData.append(meanTimeCountingSerieB)\n",
    "            timeQuickData.append(meanTimeQuickSerieB)\n",
    "            timeQuickSeuilData.append(meanTimeQuickSeuilSerieB)\n",
    "            timeQuickRdmSeuilData.append(meanTimeQuickRdmSeuilSerieB)\n",
    "            group.append(groupInt)\n",
    "            groupInt += 1\n",
    "\n",
    "        if i == 2:\n",
    "            meanTimeCountingSerieC = meanTimeCounting\n",
    "            meanTimeQuickSerieC = meanTimeQuick\n",
    "            meanTimeQuickSeuilSerieC = meanTimeQuickSeuil\n",
    "            meanTimeQuickRdmSeuilSerieC = meanTimeQuickRdmSeuil\n",
    "            timeCountingData.append(meanTimeCountingSerieC)\n",
    "            timeQuickData.append(meanTimeQuickSerieC)\n",
    "            timeQuickSeuilData.append(meanTimeQuickSeuilSerieC)\n",
    "            timeQuickRdmSeuilData.append(meanTimeQuickRdmSeuilSerieC)\n",
    "            group.append(groupInt)\n",
    "            groupInt += 1\n",
    "\n",
    "d = {'group': group,\n",
    "    'timeCounting': timeCountingData,\n",
    "    'timeQuick': timeQuickData,\n",
    "    'timeQuickSeuil': timeQuickSeuilData, \n",
    "    'timeQuickRdmSeuil': timeQuickRdmSeuilData\n",
    "    }\n",
    "\n",
    "df = pd.DataFrame(data=d)\n",
    "df.to_csv(\"output.csv\", index=False, header=False)\n",
    "print(df)"
   ]
  },
  {
   "cell_type": "code",
   "execution_count": 3,
   "metadata": {},
   "outputs": [
    {
     "name": "stdout",
     "output_type": "stream",
     "text": [
      "C:\\Users\\Joel\n"
     ]
    }
   ],
   "source": [
    ""
   ]
  },
  {
   "cell_type": "code",
   "execution_count": null,
   "metadata": {},
   "outputs": [],
   "source": []
  }
 ],
 "metadata": {
  "kernelspec": {
   "display_name": "Python 2",
   "language": "python",
   "name": "python2"
  },
  "language_info": {
   "codemirror_mode": {
    "name": "ipython",
    "version": 2
   },
   "file_extension": ".py",
   "mimetype": "text/x-python",
   "name": "python",
   "nbconvert_exporter": "python",
   "pygments_lexer": "ipython2",
   "version": "2.7.6"
  }
 },
 "nbformat": 4,
 "nbformat_minor": 0
}
